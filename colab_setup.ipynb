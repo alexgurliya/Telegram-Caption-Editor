# Install Required Libraries
!pip install python-telegram-bot==20.3

# Import Required Libraries
from google.colab import files
import configparser

# Step 1: Create or Edit `config.ini`
print("Creating an editable interface for `config.ini`...\n")

# Default Configuration
default_config = {
    "TELEGRAM": {
        "BOT_TOKEN": "Enter your Bot Token here",
        "API_ID": "Enter your API ID here",
        "API_HASH": "Enter your API Hash here",
        "CHANNEL_ID": "@your_channel_username",
    },
    "SETTINGS": {
        "DELAY": "1"
    }
}

# Function to Display and Edit Configuration
def edit_config(config_dict):
    print("Editing config.ini. Please provide the required details below.")
    for section, options in config_dict.items():
        print(f"\n[{section}]")
        for key, value in options.items():
            new_value = input(f"{key} (default: {value}): ")
            if new_value.strip():
                config_dict[section][key] = new_value
    return config_dict

# Create and Save Config File
config_dict = edit_config(default_config)

config = configparser.ConfigParser()
for section, options in config_dict.items():
    config[section] = options

with open("config.ini", "w") as configfile:
    config.write(configfile)

print("\nConfiguration saved to `config.ini`.")

# Step 2: Upload `main.py`
print("\nUpload your `main.py` file...")
uploaded = files.upload()

# Step 3: Run the Bot
print("\nRunning the bot...")
!python3 main.py
